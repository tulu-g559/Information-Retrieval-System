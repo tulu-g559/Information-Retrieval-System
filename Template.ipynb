{
 "cells": [
  {
   "cell_type": "code",
   "execution_count": 1,
   "id": "f4c7ce41-20c2-4444-a90c-a9aad875087c",
   "metadata": {},
   "outputs": [],
   "source": [
    "import google.generativeai as genai\n",
    "import os\n",
    "from flask import Flask, render_template, request, jsonify\n",
    "from difflib import SequenceMatcher"
   ]
  },
  {
   "cell_type": "code",
   "execution_count": 2,
   "id": "4c0aef62-eab2-46dc-b31a-a845aa157c74",
   "metadata": {},
   "outputs": [],
   "source": [
    "# Set your Google API key\n",
    "os.environ[\"GOOGLE_API_KEY\"] = \"Your_api_key\"\n",
    "genai.configure(api_key=os.environ[\"GOOGLE_API_KEY\"])\n"
   ]
  },
  {
   "cell_type": "code",
   "execution_count": 3,
   "id": "738074fb-5546-4a3e-b05a-22b19b71a4f9",
   "metadata": {},
   "outputs": [],
   "source": [
    "model = genai.GenerativeModel(\"models/gemini-1.5-pro\")"
   ]
  },
  {
   "cell_type": "code",
   "execution_count": 4,
   "id": "a6998745-19b3-4236-824e-c70fb123ce50",
   "metadata": {},
   "outputs": [],
   "source": [
    "# Global variables to store conversation history and context\n",
    "conversation_history = []"
   ]
  },
  {
   "cell_type": "markdown",
   "id": "9d4e1ed1-3ec3-45c4-8482-21c1322741b2",
   "metadata": {},
   "source": [
    "### Voice assistance function with topic management"
   ]
  },
  {
   "cell_type": "code",
   "execution_count": 5,
   "id": "77bb5dd3-dad1-4b21-8724-f7f990148b30",
   "metadata": {},
   "outputs": [],
   "source": [
    "def voice_assistance(input_user):\n",
    "    global conversation_history\n",
    "\n",
    "    # Improved prompt with focus on concise and direct answers\n",
    "    prompt = f\"\"\"\n",
    "    You are an AI assistant in an engaging conversation with a user. The user just asked the following question:\n",
    "    '{input_user}'\n",
    "    Provide a direct and informative answer, focusing on the exact details the user is asking for. Avoid unnecessary elaboration or asking follow-up questions unless essential to the user’s inquiry. Keep the response clear, concise, and to the point. If the topic is complex, briefly summarize the key aspects.\n",
    "    \"\"\"\n",
    "\n",
    "    response = model.generate_content(prompt).text\n",
    "\n",
    "    # # Update conversation history\n",
    "    # conversation_history.append({\n",
    "    #     'user': input_user,\n",
    "    #     'ai': response\n",
    "    # })\n",
    "\n",
    "    return response"
   ]
  },
  {
   "cell_type": "code",
   "execution_count": 8,
   "id": "b502e7f5-5575-49a4-9326-140c76318ca5",
   "metadata": {},
   "outputs": [
    {
     "name": "stdin",
     "output_type": "stream",
     "text": [
      "Start Conversation here :) hi\n"
     ]
    },
    {
     "name": "stdout",
     "output_type": "stream",
     "text": [
      "Hello! \n",
      "\n"
     ]
    }
   ],
   "source": [
    "input_user = input(\"Start Conversation here :)\")\n",
    "print(voice_assistance(input_user))"
   ]
  },
  {
   "cell_type": "code",
   "execution_count": 9,
   "id": "6fa912bc-f82a-467f-933a-9e69dbe1d8a9",
   "metadata": {},
   "outputs": [
    {
     "ename": "NameError",
     "evalue": "name 'app' is not defined",
     "output_type": "error",
     "traceback": [
      "\u001b[1;31m---------------------------------------------------------------------------\u001b[0m",
      "\u001b[1;31mNameError\u001b[0m                                 Traceback (most recent call last)",
      "Cell \u001b[1;32mIn[9], line 2\u001b[0m\n\u001b[0;32m      1\u001b[0m \u001b[38;5;66;03m# Route to render the main page\u001b[39;00m\n\u001b[1;32m----> 2\u001b[0m \u001b[38;5;129m@app\u001b[39m\u001b[38;5;241m.\u001b[39mroute(\u001b[38;5;124m'\u001b[39m\u001b[38;5;124m/\u001b[39m\u001b[38;5;124m'\u001b[39m)\n\u001b[0;32m      3\u001b[0m \u001b[38;5;28;01mdef\u001b[39;00m \u001b[38;5;21mindex\u001b[39m():\n\u001b[0;32m      4\u001b[0m     \u001b[38;5;28;01mreturn\u001b[39;00m render_template(\u001b[38;5;124m'\u001b[39m\u001b[38;5;124mindex.html\u001b[39m\u001b[38;5;124m'\u001b[39m)\n\u001b[0;32m      7\u001b[0m \u001b[38;5;66;03m# Route to handle voice input and return model response with conversation history\u001b[39;00m\n",
      "\u001b[1;31mNameError\u001b[0m: name 'app' is not defined"
     ]
    }
   ],
   "source": [
    "\n",
    "\n",
    "# Route to render the main page\n",
    "@app.route('/')\n",
    "def index():\n",
    "    return render_template('index.html')\n",
    "\n",
    "# Route to handle voice input and return model response with conversation history\n",
    "@app.route('/process_voice', methods=['POST'])\n",
    "def process_voice():\n",
    "    user_input = request.json.get(\"user_input\")\n",
    "    response = voice_assistance(user_input)\n",
    "\n",
    "    # Return the updated conversation history\n",
    "    return jsonify({'response': response, 'conversation_history': conversation_history})"
   ]
  },
  {
   "cell_type": "code",
   "execution_count": 13,
   "id": "a09c51a0-9599-4b83-833e-80aaf5113706",
   "metadata": {},
   "outputs": [
    {
     "name": "stdout",
     "output_type": "stream",
     "text": [
      " * Serving Flask app '__main__'\n",
      " * Debug mode: on\n"
     ]
    },
    {
     "name": "stderr",
     "output_type": "stream",
     "text": [
      "WARNING: This is a development server. Do not use it in a production deployment. Use a production WSGI server instead.\n",
      " * Running on http://127.0.0.1:5000\n",
      "Press CTRL+C to quit\n",
      " * Restarting with stat\n"
     ]
    },
    {
     "ename": "SystemExit",
     "evalue": "1",
     "output_type": "error",
     "traceback": [
      "An exception has occurred, use %tb to see the full traceback.\n",
      "\u001b[1;31mSystemExit\u001b[0m\u001b[1;31m:\u001b[0m 1\n"
     ]
    },
    {
     "name": "stderr",
     "output_type": "stream",
     "text": [
      "C:\\Users\\Arnab\\AppData\\Roaming\\Python\\Python312\\site-packages\\IPython\\core\\interactiveshell.py:3585: UserWarning: To exit: use 'exit', 'quit', or Ctrl-D.\n",
      "  warn(\"To exit: use 'exit', 'quit', or Ctrl-D.\", stacklevel=1)\n"
     ]
    }
   ],
   "source": [
    "if __name__ == '__main__':\n",
    "    app.run(debug=True)"
   ]
  },
  {
   "cell_type": "code",
   "execution_count": null,
   "id": "ff8263ec-7669-4436-bde1-b6c0fac1b476",
   "metadata": {},
   "outputs": [],
   "source": []
  }
 ],
 "metadata": {
  "kernelspec": {
   "display_name": "Python 3 (ipykernel)",
   "language": "python",
   "name": "python3"
  },
  "language_info": {
   "codemirror_mode": {
    "name": "ipython",
    "version": 3
   },
   "file_extension": ".py",
   "mimetype": "text/x-python",
   "name": "python",
   "nbconvert_exporter": "python",
   "pygments_lexer": "ipython3",
   "version": "3.12.5"
  }
 },
 "nbformat": 4,
 "nbformat_minor": 5
}
